{
 "cells": [
  {
   "cell_type": "markdown",
   "metadata": {},
   "source": [
    "## <center>Компьютерное моделирование\n",
    "----\n",
    "### <center>Лабораторная работа №1"
   ]
  },
  {
   "cell_type": "markdown",
   "metadata": {},
   "source": [
    "Студенты:\n",
    "- Фатыхов Т.М.\n",
    "- Неупокоев М.В.\n",
    "- Хахолин А.А."
   ]
  },
  {
   "cell_type": "markdown",
   "metadata": {},
   "source": [
    "### Задание 1"
   ]
  },
  {
   "cell_type": "code",
   "execution_count": 28,
   "metadata": {
    "collapsed": true
   },
   "outputs": [],
   "source": [
    "from sympy import *"
   ]
  },
  {
   "cell_type": "code",
   "execution_count": 29,
   "metadata": {
    "collapsed": true
   },
   "outputs": [],
   "source": [
    "x = symbols('x')\n",
    "init_printing(use_unicode=True)"
   ]
  },
  {
   "cell_type": "code",
   "execution_count": 30,
   "metadata": {},
   "outputs": [
    {
     "data": {
      "image/png": "[encoded data removed]",
      "text/latex": [
       "$$\\left\\{- \\frac{5}{6} - \\frac{5}{36 \\sqrt[3]{\\frac{26}{27} + \\frac{\\sqrt{4821}}{72}}} + \\sqrt[3]{\\frac{26}{27} + \\frac{\\sqrt{4821}}{72}}, - \\frac{5}{6} - \\frac{1}{2} \\sqrt[3]{\\frac{26}{27} + \\frac{\\sqrt{4821}}{72}} + \\frac{5}{72 \\sqrt[3]{\\frac{26}{27} + \\frac{\\sqrt{4821}}{72}}} + i \\left(\\frac{5 \\sqrt{3}}{72 \\sqrt[3]{\\frac{26}{27} + \\frac{\\sqrt{4821}}{72}}} + \\frac{\\sqrt{3}}{2} \\sqrt[3]{\\frac{26}{27} + \\frac{\\sqrt{4821}}{72}}\\right), - \\frac{5}{6} - \\frac{1}{2} \\sqrt[3]{\\frac{26}{27} + \\frac{\\sqrt{4821}}{72}} + \\frac{5}{72 \\sqrt[3]{\\frac{26}{27} + \\frac{\\sqrt{4821}}{72}}} + i \\left(- \\frac{\\sqrt{3}}{2} \\sqrt[3]{\\frac{26}{27} + \\frac{\\sqrt{4821}}{72}} - \\frac{5 \\sqrt{3}}{72 \\sqrt[3]{\\frac{26}{27} + \\frac{\\sqrt{4821}}{72}}}\\right)\\right\\}$$"
      ],
      "text/plain": [
       "⎧                                                        ____________         \n",
       "⎪                                                       ╱ 26   √4821          \n",
       "⎪                                ____________        3 ╱  ── + ─────          \n",
       "⎪  5            5               ╱ 26   √4821     5   ╲╱   27     72           \n",
       "⎨- ─ - ─────────────────── + 3 ╱  ── + ───── , - ─ - ──────────────── + ──────\n",
       "⎪  6          ____________   ╲╱   27     72      6          2                 \n",
       "⎪            ╱ 26   √4821                                                     \n",
       "⎪      36⋅3 ╱  ── + ─────                                               72⋅3 ╱\n",
       "⎩         ╲╱   27     72                                                   ╲╱ \n",
       "\n",
       "                  ⎛                             ____________⎞            _____\n",
       "                  ⎜                            ╱ 26   √4821 ⎟           ╱ 26  \n",
       "                  ⎜                      √3⋅3 ╱  ── + ───── ⎟        3 ╱  ── +\n",
       "   5              ⎜        5⋅√3             ╲╱   27     72  ⎟    5   ╲╱   27  \n",
       "───────────── + ⅈ⋅⎜─────────────────── + ───────────────────⎟, - ─ - ─────────\n",
       " ____________     ⎜       ____________            2         ⎟    6          2 \n",
       "╱ 26   √4821      ⎜      ╱ 26   √4821                       ⎟                 \n",
       "  ── + ─────      ⎜72⋅3 ╱  ── + ─────                       ⎟                 \n",
       "  27     72       ⎝   ╲╱   27     72                        ⎠                 \n",
       "\n",
       "_______                           ⎛         ____________                      \n",
       " √4821                            ⎜        ╱ 26   √4821                       \n",
       " ─────                            ⎜  √3⋅3 ╱  ── + ─────                       \n",
       "   72              5              ⎜     ╲╱   27     72             5⋅√3       \n",
       "─────── + ─────────────────── + ⅈ⋅⎜- ─────────────────── - ───────────────────\n",
       "                 ____________     ⎜           2                   ____________\n",
       "                ╱ 26   √4821      ⎜                              ╱ 26   √4821 \n",
       "          72⋅3 ╱  ── + ─────      ⎜                        72⋅3 ╱  ── + ───── \n",
       "             ╲╱   27     72       ⎝                           ╲╱   27     72  \n",
       "\n",
       "⎞⎫\n",
       "⎟⎪\n",
       "⎟⎪\n",
       "⎟⎪\n",
       "⎟⎬\n",
       "⎟⎪\n",
       "⎟⎪\n",
       "⎟⎪\n",
       "⎠⎭"
      ]
     },
     "execution_count": 30,
     "metadata": {},
     "output_type": "execute_result"
    }
   ],
   "source": [
    "solveset(Eq(2 * x**3 + 5 * x**2 + 5*x - 1, 1), x) "
   ]
  },
  {
   "cell_type": "markdown",
   "metadata": {},
   "source": [
    "### Задание 2"
   ]
  },
  {
   "cell_type": "code",
   "execution_count": 4,
   "metadata": {
    "collapsed": true
   },
   "outputs": [],
   "source": [
    "import os\n",
    "import glob\n",
    "\n",
    "init_printing(use_unicode=False)"
   ]
  },
  {
   "cell_type": "code",
   "execution_count": 5,
   "metadata": {
    "collapsed": true
   },
   "outputs": [],
   "source": [
    "with open(\"1.txt\", \"w\") as output:\n",
    "        output.writelines(['hello','world'])"
   ]
  },
  {
   "cell_type": "code",
   "execution_count": 6,
   "metadata": {},
   "outputs": [
    {
     "data": {
      "text/plain": [
       "['1.txt']"
      ]
     },
     "execution_count": 6,
     "metadata": {},
     "output_type": "execute_result"
    }
   ],
   "source": [
    "glob.glob('*.txt') "
   ]
  },
  {
   "cell_type": "code",
   "execution_count": 7,
   "metadata": {},
   "outputs": [
    {
     "name": "stdout",
     "output_type": "stream",
     "text": [
      "['helloworld']\n"
     ]
    }
   ],
   "source": [
    "lines = None\n",
    "with open(\"1.txt\", \"r\") as input:\n",
    "        lines = input.readlines()\n",
    "        print(lines)"
   ]
  },
  {
   "cell_type": "code",
   "execution_count": 8,
   "metadata": {},
   "outputs": [
    {
     "name": "stdout",
     "output_type": "stream",
     "text": [
      "['helloworldhelloworld']\n"
     ]
    }
   ],
   "source": [
    "with open(\"1.txt\", \"a\") as output:\n",
    "        output.writelines(lines)\n",
    "        \n",
    "with open(\"1.txt\", \"r\") as input:\n",
    "        lines = input.readlines()\n",
    "        print(lines)"
   ]
  },
  {
   "cell_type": "markdown",
   "metadata": {},
   "source": [
    "### Задание 3"
   ]
  },
  {
   "cell_type": "code",
   "execution_count": 9,
   "metadata": {
    "collapsed": true
   },
   "outputs": [],
   "source": [
    "import numpy as np "
   ]
  },
  {
   "cell_type": "code",
   "execution_count": 10,
   "metadata": {
    "collapsed": true
   },
   "outputs": [],
   "source": [
    "a = np.random.randint(0, 1e4, 5000)"
   ]
  },
  {
   "cell_type": "code",
   "execution_count": 11,
   "metadata": {
    "collapsed": true
   },
   "outputs": [],
   "source": [
    "def bubble_sort(a):\n",
    "    arr = a.copy() \n",
    "    for i in range(len(arr)):\n",
    "        for j in range(i, len(arr)):\n",
    "            if arr[i] > arr[j]:\n",
    "                buff = arr[j]\n",
    "                arr[j] = arr[i]\n",
    "                arr[i] = buff\n",
    "    return arr "
   ]
  },
  {
   "cell_type": "code",
   "execution_count": 12,
   "metadata": {},
   "outputs": [
    {
     "name": "stdout",
     "output_type": "stream",
     "text": [
      "CPU times: user 3.92 s, sys: 13.2 ms, total: 3.93 s\n",
      "Wall time: 3.95 s\n"
     ]
    },
    {
     "data": {
      "text/plain": [
       "array([   0,    2,    3, ..., 9997, 9998, 9999])"
      ]
     },
     "execution_count": 12,
     "metadata": {},
     "output_type": "execute_result"
    }
   ],
   "source": [
    "%%time \n",
    "bubble_sort(a) "
   ]
  },
  {
   "cell_type": "code",
   "execution_count": 13,
   "metadata": {},
   "outputs": [
    {
     "name": "stdout",
     "output_type": "stream",
     "text": [
      "CPU times: user 424 µs, sys: 127 µs, total: 551 µs\n",
      "Wall time: 302 µs\n"
     ]
    },
    {
     "data": {
      "text/plain": [
       "array([   0,    2,    3, ..., 9997, 9998, 9999])"
      ]
     },
     "execution_count": 13,
     "metadata": {},
     "output_type": "execute_result"
    }
   ],
   "source": [
    "%%time \n",
    "np.sort(a) "
   ]
  },
  {
   "cell_type": "markdown",
   "metadata": {},
   "source": [
    "### Задание 4"
   ]
  },
  {
   "cell_type": "code",
   "execution_count": 14,
   "metadata": {},
   "outputs": [
    {
     "data": {
      "image/png": "[encoded data removed]",
      "text/latex": [
       "$$2 x \\log{\\left (y \\right )} \\cos{\\left (x \\right )} \\cos{\\left (x^{2} \\right )} - \\log{\\left (y \\right )} \\sin{\\left (x \\right )} \\sin{\\left (x^{2} \\right )} + \\tan^{2}{\\left (x \\right )} + 1$$"
      ],
      "text/plain": [
       "                     / 2\\                    / 2\\      2       \n",
       "2*x*log(y)*cos(x)*cos\\x / - log(y)*sin(x)*sin\\x / + tan (x) + 1"
      ]
     },
     "execution_count": 14,
     "metadata": {},
     "output_type": "execute_result"
    }
   ],
   "source": [
    "init_printing(use_unicode=False, wrap_line=False, no_global=True)\n",
    "x, y = symbols('x y') \n",
    "\n",
    "diff(cos(x) * sin(x**2) * log(y) + tan(x), x)"
   ]
  },
  {
   "cell_type": "markdown",
   "metadata": {},
   "source": [
    "### Задание 5"
   ]
  },
  {
   "cell_type": "code",
   "execution_count": 15,
   "metadata": {},
   "outputs": [
    {
     "data": {
      "image/png": "[encoded data removed]",
      "text/latex": [
       "$$\\frac{x^{3}}{3} \\log{\\left (x \\right )} - \\frac{x^{3}}{9}$$"
      ],
      "text/plain": [
       " 3           3\n",
       "x *log(x)   x \n",
       "--------- - --\n",
       "    3       9 "
      ]
     },
     "execution_count": 15,
     "metadata": {},
     "output_type": "execute_result"
    }
   ],
   "source": [
    "integrate(x**2*log(x), x)"
   ]
  },
  {
   "cell_type": "code",
   "execution_count": 19,
   "metadata": {},
   "outputs": [
    {
     "data": {
      "image/png": "[encoded data removed]",
      "text/latex": [
       "$$- \\frac{1}{2} \\sin{\\left (1 \\right )} \\cos{\\left (1 \\right )} + \\frac{11}{2}$$"
      ],
      "text/plain": [
       "  sin(1)*cos(1)   11\n",
       "- ------------- + --\n",
       "        2         2 "
      ]
     },
     "execution_count": 19,
     "metadata": {},
     "output_type": "execute_result"
    }
   ],
   "source": [
    "integrate(sin(x)**2 + 5, (x, 0, 1)) "
   ]
  },
  {
   "cell_type": "markdown",
   "metadata": {},
   "source": [
    "### Задание 6"
   ]
  },
  {
   "cell_type": "code",
   "execution_count": 20,
   "metadata": {
    "collapsed": true
   },
   "outputs": [],
   "source": [
    "import matplotlib.pyplot as plt \n",
    "\n",
    "%matplotlib inline\n",
    "plt.rcParams['figure.figsize'] = (10.0, 8.0) # set default size of plots\n",
    "plt.rcParams['image.interpolation'] = 'nearest'\n",
    "plt.rcParams['image.cmap'] = 'gray'"
   ]
  },
  {
   "cell_type": "code",
   "execution_count": 22,
   "metadata": {
    "collapsed": true
   },
   "outputs": [],
   "source": [
    "def my_func(x):\n",
    "    x = np.array(x)\n",
    "    return np.cos(x)**2 / (x**2+1)"
   ]
  },
  {
   "cell_type": "code",
   "execution_count": 25,
   "metadata": {},
   "outputs": [
    {
     "data": {
      "image/png": "[encoded data removed]",
      "text/plain": [
       "<matplotlib.figure.Figure at 0x11900ad68>"
      ]
     },
     "metadata": {},
     "output_type": "display_data"
    }
   ],
   "source": [
    "x = np.linspace(26, 75, int(1e4)) \n",
    "plt.plot(x, my_func(x), label='cos(x)^2 / (x^2+1)') \n",
    "plt.xlabel('x', fontsize=18) \n",
    "plt.title('Our function', fontsize=18)\n",
    "plt.ylabel('f(x)', fontsize=18) \n",
    "plt.legend(loc='center right') \n",
    "plt.show() "
   ]
  },
  {
   "cell_type": "markdown",
   "metadata": {},
   "source": [
    "### Задание 7"
   ]
  },
  {
   "cell_type": "code",
   "execution_count": 26,
   "metadata": {
    "collapsed": true
   },
   "outputs": [],
   "source": [
    "import seaborn as sns"
   ]
  },
  {
   "cell_type": "code",
   "execution_count": 27,
   "metadata": {},
   "outputs": [
    {
     "data": {
      "image/png": "[encoded data removed]",
      "text/plain": [
       "<matplotlib.figure.Figure at 0x118c54940>"
      ]
     },
     "metadata": {},
     "output_type": "display_data"
    }
   ],
   "source": [
    "rng = np.random.RandomState(10)\n",
    "a = np.hstack((rng.normal(size=1000), rng.normal(loc=5, scale=2, size=1000)))\n",
    "plt.hist(a, bins=15) \n",
    "plt.title(\"Histogram with 'auto' bins\")\n",
    "plt.show()"
   ]
  }
 ],
 "metadata": {
  "kernelspec": {
   "display_name": "Python 3",
   "language": "python",
   "name": "python3"
  },
  "language_info": {
   "codemirror_mode": {
    "name": "ipython",
    "version": 3
   },
   "file_extension": ".py",
   "mimetype": "text/x-python",
   "name": "python",
   "nbconvert_exporter": "python",
   "pygments_lexer": "ipython3",
   "version": "3.6.3"
  },
  "latex_envs": {
   "LaTeX_envs_menu_present": true,
   "autocomplete": true,
   "bibliofile": "biblio.bib",
   "cite_by": "apalike",
   "current_citInitial": 1,
   "eqLabelWithNumbers": true,
   "eqNumInitial": 1,
   "hotkeys": {
    "equation": "Ctrl-E",
    "itemize": "Ctrl-I"
   },
   "labels_anchors": false,
   "latex_user_defs": false,
   "report_style_numbering": false,
   "user_envs_cfg": false
  }
 },
 "nbformat": 4,
 "nbformat_minor": 2
}
